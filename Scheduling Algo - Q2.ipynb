{
 "cells": [
  {
   "cell_type": "code",
   "execution_count": 21,
   "id": "f96b838e",
   "metadata": {},
   "outputs": [
    {
     "name": "stdout",
     "output_type": "stream",
     "text": [
      "FCFS Schedule: ['A', 'B', 'C', 'D']\n",
      "Treatment order based on FCFS:\n",
      "Patient A: Waiting Time = 0 minutes\n",
      "Patient B: Waiting Time = 20 minutes\n",
      "Patient C: Waiting Time = 35 minutes\n",
      "Patient D: Waiting Time = 70 minutes\n",
      "Total Waiting Time = 125 minutes\n",
      "Average Waiting Time = 31.25 minutes\n"
     ]
    }
   ],
   "source": [
    "#(name, arrival time, estimated treatment time, urgency level)\n",
    "patients = [\n",
    "    (\"A\", 0, 30, 3),\n",
    "    (\"B\", 10, 20, 5),\n",
    "    (\"C\", 15, 40, 2),\n",
    "    (\"D\", 20, 15, 4),\n",
    "]\n",
    "\n",
    "patients.sort(key=lambda x: x[1]) # Sort based on arrival times\n",
    "\n",
    "current_time = 0\n",
    "waiting_times = []\n",
    "\n",
    "# Schedule patients\n",
    "for patient in patients:\n",
    "    arrival_time = patient[1]\n",
    "    treatment_time = patient[2]\n",
    "    waiting_time = max(0, current_time - arrival_time)\n",
    "    current_time = max(current_time, arrival_time) + treatment_time\n",
    "    waiting_times.append((patient[0], waiting_time))\n",
    "\n",
    "total_waiting_time = sum(waiting_time for _, waiting_time in waiting_times)\n",
    "average_waiting_time = total_waiting_time / len(patients)\n",
    "\n",
    "fcfs_schedule = sorted(patients, key=lambda x: x[1])\n",
    "fcfs_result = [patient[0] for patient in fcfs_schedule]\n",
    "print(\"FCFS Schedule:\", fcfs_result)\n",
    "\n",
    "print(\"Treatment order based on FCFS:\")\n",
    "for patient, waiting_time in waiting_times:\n",
    "    print(f\"Patient {patient}: Waiting Time = {waiting_time} minutes\")\n",
    "\n",
    "print(f\"Total Waiting Time = {total_waiting_time} minutes\")\n",
    "print(f\"Average Waiting Time = {average_waiting_time} minutes\")"
   ]
  },
  {
   "cell_type": "code",
   "execution_count": 22,
   "id": "8fe08f83",
   "metadata": {},
   "outputs": [
    {
     "name": "stdout",
     "output_type": "stream",
     "text": [
      "SJF Schedule: ['D', 'B', 'A', 'C']\n",
      "Patient Schedule (SJF):\n",
      "Patient D: Waiting Time = 0 minutes\n",
      "Patient B: Waiting Time = 25 minutes\n",
      "Patient A: Waiting Time = 55 minutes\n",
      "Patient C: Waiting Time = 70 minutes\n",
      "Total Waiting Time = 150 minutes\n",
      "Average Waiting Time = 37.5 minutes\n"
     ]
    }
   ],
   "source": [
    "# Define the patient data (name, arrival time, estimated treatment time, urgency level)\n",
    "patients = [\n",
    "    (\"A\", 0, 30, 3),\n",
    "    (\"B\", 10, 20, 5),\n",
    "    (\"C\", 15, 40, 2),\n",
    "    (\"D\", 20, 15, 4),\n",
    "]\n",
    "\n",
    "# Sort based on estimated treatment time (SJF)\n",
    "patients.sort(key=lambda x: x[2])\n",
    "current_time = 0\n",
    "waiting_times = []\n",
    "\n",
    "for patient in patients:\n",
    "    arrival_time = patient[1]\n",
    "    treatment_time = patient[2]\n",
    "    waiting_time = max(0, current_time - arrival_time)\n",
    "    current_time = max(current_time, arrival_time) + treatment_time\n",
    "    waiting_times.append((patient[0], waiting_time))\n",
    "\n",
    "total_waiting_time = sum(waiting_time for _, waiting_time in waiting_times)\n",
    "average_waiting_time = total_waiting_time / len(patients)\n",
    "\n",
    "sjf_schedule = sorted(patients, key=lambda x: x[2])\n",
    "sjf_result = [patient[0] for patient in sjf_schedule]\n",
    "print(\"SJF Schedule:\", sjf_result)\n",
    "\n",
    "print(\"Patient Schedule (SJF):\")\n",
    "for patient, waiting_time in waiting_times:\n",
    "    print(f\"Patient {patient}: Waiting Time = {waiting_time} minutes\")\n",
    "\n",
    "print(f\"Total Waiting Time = {total_waiting_time} minutes\")\n",
    "print(f\"Average Waiting Time = {average_waiting_time} minutes\")"
   ]
  },
  {
   "cell_type": "code",
   "execution_count": 23,
   "id": "707339b8",
   "metadata": {},
   "outputs": [
    {
     "name": "stdout",
     "output_type": "stream",
     "text": [
      "Priority Schedule: ['P3', 'A', 'P4', 'P2']\n",
      "Patient Schedule (Priority Scheduling):\n",
      "Patient P3: Waiting Time = 0 minutes\n",
      "Patient A: Waiting Time = 55 minutes\n",
      "Patient P4: Waiting Time = 65 minutes\n",
      "Patient P2: Waiting Time = 90 minutes\n",
      "Total Waiting Time = 210 minutes\n",
      "Average Waiting Time = 52.5 minutes\n"
     ]
    }
   ],
   "source": [
    "# Define the patient data (name, arrival time, estimated treatment time, priority level)\n",
    "patients = [\n",
    "    (\"A\", 0, 30, 3),\n",
    "    (\"B\", 10, 20, 5),\n",
    "    (\"C\", 15, 40, 2),\n",
    "    (\"D\", 20, 15, 4),\n",
    "]\n",
    "\n",
    "# Sort based on priority level (lower values mean higher priority)\n",
    "patients.sort(key=lambda x: x[3])\n",
    "current_time = 0\n",
    "waiting_times = []\n",
    "\n",
    "for patient in patients:\n",
    "    arrival_time = patient[1]\n",
    "    treatment_time = patient[2]\n",
    "    waiting_time = max(0, current_time - arrival_time)\n",
    "    current_time = max(current_time, arrival_time) + treatment_time\n",
    "    waiting_times.append((patient[0], waiting_time))\n",
    "    \n",
    "total_waiting_time = sum(waiting_time for _, waiting_time in waiting_times)\n",
    "average_waiting_time = total_waiting_time / len(patients)\n",
    "\n",
    "priority_schedule = sorted(patients, key=lambda x: x[3])\n",
    "priority_result = [patient[0] for patient in priority_schedule]\n",
    "print(\"Priority Schedule:\", priority_result)\n",
    "\n",
    "print(\"Patient Schedule (Priority Scheduling):\")\n",
    "for patient, waiting_time in waiting_times:\n",
    "    print(f\"Patient {patient}: Waiting Time = {waiting_time} minutes\")\n",
    "\n",
    "print(f\"Total Waiting Time = {total_waiting_time} minutes\")\n",
    "print(f\"Average Waiting Time = {average_waiting_time} minutes\")\n"
   ]
  },
  {
   "cell_type": "code",
   "execution_count": 24,
   "id": "862aafd3",
   "metadata": {},
   "outputs": [
    {
     "name": "stdout",
     "output_type": "stream",
     "text": [
      "Patient Schedule (Round Robin):\n",
      "Patient A: Waiting Time = 55 minutes\n",
      "Patient B: Waiting Time = 30 minutes\n",
      "Patient C: Waiting Time = 50 minutes\n",
      "Patient D: Waiting Time = 40 minutes\n",
      "Total Waiting Time = 175 minutes\n",
      "Average Waiting Time = 43.75 minutes\n"
     ]
    }
   ],
   "source": [
    "# Define the patient data (name, arrival time, estimated treatment time)\n",
    "patients = [\n",
    "    (\"A\", 0, 30),\n",
    "    (\"B\", 10, 20),\n",
    "    (\"C\", 15, 40),\n",
    "    (\"D\", 20, 15),\n",
    "]\n",
    "\n",
    "time_quantum = 10\n",
    "current_time = 0\n",
    "remaining_time = [patient[2] for patient in patients]\n",
    "waiting_times = [0] * len(patients)\n",
    "\n",
    "while any(remaining_time):\n",
    "    for i in range(len(patients)):\n",
    "        if remaining_time[i] > 0:\n",
    "            if remaining_time[i] <= time_quantum:\n",
    "                current_time += remaining_time[i]\n",
    "                waiting_times[i] += current_time - patients[i][1] - patients[i][2]\n",
    "                remaining_time[i] = 0\n",
    "            else:\n",
    "                current_time += time_quantum\n",
    "                remaining_time[i] -= time_quantum\n",
    "\n",
    "# Print the schedule and waiting times\n",
    "total_waiting_time = sum(waiting_times)\n",
    "average_waiting_time = total_waiting_time / len(patients)\n",
    "\n",
    "print(\"Patient Schedule (Round Robin):\")\n",
    "for i, patient in enumerate(patients):\n",
    "    print(f\"Patient {patient[0]}: Waiting Time = {waiting_times[i]} minutes\")\n",
    "\n",
    "print(f\"Total Waiting Time = {total_waiting_time} minutes\")\n",
    "print(f\"Average Waiting Time = {average_waiting_time} minutes\")\n"
   ]
  }
 ],
 "metadata": {
  "kernelspec": {
   "display_name": "Python 3 (ipykernel)",
   "language": "python",
   "name": "python3"
  },
  "language_info": {
   "codemirror_mode": {
    "name": "ipython",
    "version": 3
   },
   "file_extension": ".py",
   "mimetype": "text/x-python",
   "name": "python",
   "nbconvert_exporter": "python",
   "pygments_lexer": "ipython3",
   "version": "3.9.7"
  }
 },
 "nbformat": 4,
 "nbformat_minor": 5
}
